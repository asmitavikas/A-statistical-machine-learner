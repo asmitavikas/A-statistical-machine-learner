{
 "cells": [
  {
   "cell_type": "code",
   "execution_count": 5,
   "metadata": {
    "collapsed": true
   },
   "outputs": [],
   "source": [
    "def unique_values(rows, col):\n",
    "    \"\"\"Find the unique values for a column in a dataset.\"\"\"\n",
    "    return set([row[col] for row in rows])"
   ]
  },
  {
   "cell_type": "code",
   "execution_count": 30,
   "metadata": {
    "collapsed": false
   },
   "outputs": [],
   "source": [
    "from collections import Counter\n",
    "def class_counts(rows):\n",
    "    \"\"\"Counts the number of each type of example in a dataset.\"\"\"\n",
    "    return Counter([row[-1] for row in rows])\n"
   ]
  },
  {
   "cell_type": "code",
   "execution_count": 31,
   "metadata": {
    "collapsed": true
   },
   "outputs": [],
   "source": [
    "training_data = [\n",
    "    ['Green', 3, 'Apple'],\n",
    "    ['Yellow', 3, 'Apple'],\n",
    "    ['Red', 1, 'Grape'],\n",
    "    ['Red', 1, 'Grape'],\n",
    "    ['Yellow', 3, 'Lemon'],\n",
    "]\n",
    "header = [\"color\", \"diameter\", \"label\"]"
   ]
  },
  {
   "cell_type": "code",
   "execution_count": 34,
   "metadata": {
    "collapsed": true
   },
   "outputs": [],
   "source": [
    "def gini(rows):\n",
    "    # 0 for pure, 1 for impure\n",
    "    \n",
    "    \"\"\"Calculate the Gini Impurity for a list of rows.\n",
    "\n",
    "    There are a few different ways to do this, I thought this one was\n",
    "    the most concise. See:\n",
    "    https://en.wikipedia.org/wiki/Decision_tree_learning#Gini_impurity\n",
    "    \"\"\"\n",
    "    counts = class_counts(rows)\n",
    "    impurity = 1\n",
    "    for label in counts:\n",
    "        probability_of_label = counts[label] / float(len(rows))\n",
    "        impurity -= probability_of_label**2 # 1 - sum(probability)^2\n",
    "    return impurity"
   ]
  },
  {
   "cell_type": "code",
   "execution_count": null,
   "metadata": {
    "collapsed": true
   },
   "outputs": [],
   "source": [
    "class DecisionTree:\n",
    "    def __init__(self, x, y, idxs=None, min_leaf=5):\n",
    "        # x = shuffled row of data\n",
    "        # y = shuffled row of response variable\n",
    "        # index = index of training data used to train the tree. can be less than equal to training set size\n",
    "        # min_leaf = passed by user or default 5\n",
    "        self.x, self.y, self.idxs, self.min_leaf = x, y, idxs, min_leaf\n",
    "        \n",
    "        self.n = len(idxs) # number of rows\n",
    "        self.c = x.shape[1] # number of columns\n",
    "        \n",
    "        self.val = np.mean(y[idxs]) # output value at each node. Avg of the response variable values\n",
    "        \n",
    "        self.score = float('inf') # some initial score as infinity.\n",
    "        \n",
    "        self.find_varsplit()\n",
    "        \n",
    "    # for each column, find best split\n",
    "    def find_varsplit(self):\n",
    "        for i in range(self.c): \n",
    "            self.find_better_split(i) \n",
    "    \n",
    "    # for a particular column, find best split\n",
    "    def find_better_split(self, col):\n",
    "        # purpose : get the best row to split on.\n",
    "        # process : go through every row and and try to minimize the standard deviation\n",
    "        \n",
    "        x = self.x.values[self.idxs,var_idx] # subset of x (specific rows and columns)\n",
    "        y = self.y[self.idxs] # specific rows of y\n",
    "        \n",
    "        # goto each row of data and check for score\n",
    "        # if 'i'th row is the split, what is the score\n",
    "        # compare to find lowest score\n",
    "        for i in range(1,self.n-1): \n",
    "            lhs = x<=x[i] # lhs - boolean array of 1 each time its x[i] >= x\n",
    "            rhs = x>x[i] # rhs - boolean array of 1 each time x > x[i] < x\n",
    "            \n",
    "            if rhs.sum()==0: continue # if everything went to the left split\n",
    "            lhs_std = y[lhs].std()\n",
    "            rhs_std = y[rhs].std()\n",
    "            curr_score = lhs_std*lhs.sum() + rhs_std*rhs.sum() # current_score = weigthed avg\n",
    "            if curr_score < self.score: \n",
    "                self.var_idx, self.score, self.split = var_idx, curr_score, x[i]\n",
    "    \n",
    "    # how to represent a tree object\n",
    "    def __repr__(self):\n",
    "        # __repr__ is  special function that gets called when you try to \"print\" a tree object.\n",
    "        s = f'n: {self.n}; val:{self.val}'\n",
    "        # n = number of rows in the shuffled data for that row, or for the matter of fact, in the tree.\n",
    "        # val = mean of the response variable value for that node.\n",
    "        \n",
    "        if not self.is_leaf:\n",
    "            \n",
    "            s += f'; score:{self.score}; split:{self.split}; var:{self.split_name}'\n",
    "            # score = score at that point. score is the weighted std_dev of the response variable values\n",
    "            # split = the row of data that gives the best split.\n",
    "            # split_name = the variable on which the node is spliting. basically the variable name for that node.\n",
    "            \n",
    "        return s\n",
    "\n",
    "    def split_name(self): \n",
    "        return self.x.columns[self.var_idx]\n",
    "        # returns the column on which split has happened x.columns[var_idx]\n",
    "        \n",
    "    def split_col(self): \n",
    "        return self.x.values[self.idxs,self.var_idx]\n",
    "        # returns a list of data value at x[idxs, var_idx]\n",
    "        # eg. df_raw.values[[1,2,3], 2] = will return 3 values of column 2 at rows 1,2 and 3\n",
    "    \n",
    "    def is_leaf(self): \n",
    "        return self.score == float('inf') \n",
    "        # everything that has a split, has a score to split on.\n",
    "        # this returns whether or not a node is a leaf, by comparing the score woth infinity.\n",
    "    \n",
    "    "
   ]
  }
 ],
 "metadata": {
  "kernelspec": {
   "display_name": "Python 2",
   "language": "python",
   "name": "python2"
  },
  "language_info": {
   "codemirror_mode": {
    "name": "ipython",
    "version": 2
   },
   "file_extension": ".py",
   "mimetype": "text/x-python",
   "name": "python",
   "nbconvert_exporter": "python",
   "pygments_lexer": "ipython2",
   "version": "2.7.13"
  }
 },
 "nbformat": 4,
 "nbformat_minor": 2
}
