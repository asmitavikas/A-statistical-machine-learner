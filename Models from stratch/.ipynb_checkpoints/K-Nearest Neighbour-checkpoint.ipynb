{
 "cells": [
  {
   "cell_type": "markdown",
   "metadata": {},
   "source": [
    "#### How does k-Nearest Neighbors Work\n",
    "\n",
    "    The kNN algorithm is belongs to the family of instance-based, competitive learning and lazy learning algorithms.\n",
    "    \n",
    "    Instance Based : model the problem using data instances (or rows) in order to make predictive decisions. The kNN algorithm is an extreme form of instance-based methods because all training observations are retained as part of the model.\n",
    "    Competitive Learning : competition between model elements (data instances) in order to make a predictive decision.\n",
    "    LazyLearning : There is no training the algorithm\n",
    "    \n",
    "    "
   ]
  },
  {
   "cell_type": "markdown",
   "metadata": {},
   "source": [
    "#### Steps\n",
    "    Handle Data: Open the dataset from CSV and split into test/train datasets.\n",
    "    Similarity: Calculate the distance between two data instances.\n",
    "    Neighbors: Locate k most similar data instances.\n",
    "    Response: Generate a response from a set of data instances.\n",
    "    Main: Tie it all together.\n",
    "    Accuracy: Summarize the accuracy of predictions.\n",
    "    "
   ]
  },
  {
   "cell_type": "markdown",
   "metadata": {},
   "source": [
    "###### Step 1: Load data and divide into training and test"
   ]
  },
  {
   "cell_type": "code",
   "execution_count": 13,
   "metadata": {
    "collapsed": false
   },
   "outputs": [],
   "source": [
    "import pandas as pd\n",
    "iris_data = pd.read_csv('iris.data.txt', header=None)\n",
    "X = iris_data.drop(4, axis=1)\n",
    "y = iris_data[[4]]\n",
    "\n",
    "from sklearn.model_selection import train_test_split\n",
    "X_train, X_test, y_train, y_test = train_test_split(X, y, test_size=0.33, random_state=42)"
   ]
  },
  {
   "cell_type": "markdown",
   "metadata": {},
   "source": [
    "###### Step 2: Define similarity matrix"
   ]
  },
  {
   "cell_type": "code",
   "execution_count": 16,
   "metadata": {
    "collapsed": false
   },
   "outputs": [],
   "source": [
    "from sklearn.metrics.pairwise import euclidean_distances\n",
    "# use like euclidean_distances(X_train, X_test[i])"
   ]
  },
  {
   "cell_type": "code",
   "execution_count": 57,
   "metadata": {
    "collapsed": true
   },
   "outputs": [
    {
     "data": {
      "text/plain": [
       "array([[ 0.65574385],\n",
       "       [ 2.59036677],\n",
       "       [ 0.64807407],\n",
       "       [ 3.65786823],\n",
       "       [ 2.68328157],\n",
       "       [ 0.70710678],\n",
       "       [ 3.6138622 ],\n",
       "       [ 3.75099987],\n",
       "       [ 3.23728281],\n",
       "       [ 1.82482876],\n",
       "       [ 0.67082039],\n",
       "       [ 3.3       ],\n",
       "       [ 3.44383507],\n",
       "       [ 3.27719392],\n",
       "       [ 0.72111026],\n",
       "       [ 3.54964787],\n",
       "       [ 0.67082039],\n",
       "       [ 2.92574777],\n",
       "       [ 3.78153408],\n",
       "       [ 0.43588989],\n",
       "       [ 0.98994949],\n",
       "       [ 3.76961536],\n",
       "       [ 0.64807407],\n",
       "       [ 0.8660254 ],\n",
       "       [ 0.9486833 ],\n",
       "       [ 0.81240384],\n",
       "       [ 1.43874946],\n",
       "       [ 1.05356538],\n",
       "       [ 3.36749165],\n",
       "       [ 1.86010752],\n",
       "       [ 0.97467943],\n",
       "       [ 3.65376518],\n",
       "       [ 3.82361086],\n",
       "       [ 1.15758369],\n",
       "       [ 0.86023253],\n",
       "       [ 3.60277671],\n",
       "       [ 1.3       ],\n",
       "       [ 3.57910603],\n",
       "       [ 3.41613817],\n",
       "       [ 0.75498344],\n",
       "       [ 1.99749844],\n",
       "       [ 1.73493516],\n",
       "       [ 0.58309519],\n",
       "       [ 0.94339811],\n",
       "       [ 2.40208243],\n",
       "       [ 0.97467943],\n",
       "       [ 3.8457769 ],\n",
       "       [ 4.17731971],\n",
       "       [ 0.74161985],\n",
       "       [ 1.8493242 ],\n",
       "       [ 3.68510515],\n",
       "       [ 3.63180396],\n",
       "       [ 3.93573373],\n",
       "       [ 0.50990195],\n",
       "       [ 1.62788206],\n",
       "       [ 3.78285606],\n",
       "       [ 1.40712473],\n",
       "       [ 1.91572441],\n",
       "       [ 3.83144881],\n",
       "       [ 0.2236068 ],\n",
       "       [ 0.50990195],\n",
       "       [ 0.6164414 ],\n",
       "       [ 1.00498756],\n",
       "       [ 1.34907376],\n",
       "       [ 3.55105618],\n",
       "       [ 1.42478068],\n",
       "       [ 0.64807407],\n",
       "       [ 1.04403065],\n",
       "       [ 1.29614814],\n",
       "       [ 1.22474487],\n",
       "       [ 0.3       ],\n",
       "       [ 3.89615195],\n",
       "       [ 0.52915026],\n",
       "       [ 0.7       ],\n",
       "       [ 3.56230263],\n",
       "       [ 0.81240384],\n",
       "       [ 2.0904545 ],\n",
       "       [ 1.55563492],\n",
       "       [ 3.56230263],\n",
       "       [ 1.8973666 ],\n",
       "       [ 1.81659021],\n",
       "       [ 1.61864141],\n",
       "       [ 3.60277671],\n",
       "       [ 1.64316767],\n",
       "       [ 3.65650106],\n",
       "       [ 0.92736185],\n",
       "       [ 2.03469899],\n",
       "       [ 1.1045361 ],\n",
       "       [ 0.72801099],\n",
       "       [ 1.09544512],\n",
       "       [ 0.6244998 ],\n",
       "       [ 0.51961524],\n",
       "       [ 0.96436508],\n",
       "       [ 0.77459667],\n",
       "       [ 3.29393382],\n",
       "       [ 0.70710678],\n",
       "       [ 1.34907376],\n",
       "       [ 3.84447656],\n",
       "       [ 0.78740079],\n",
       "       [ 1.81383571]])"
      ]
     },
     "execution_count": 57,
     "metadata": {},
     "output_type": "execute_result"
    }
   ],
   "source": [
    "euclidean_distances(X_train.values, X_test.values[0].reshape(1,-1)) # distance of a test point from each training point"
   ]
  },
  {
   "cell_type": "markdown",
   "metadata": {},
   "source": [
    "##### Step 3: Get K Nearest Neighbours for each testset"
   ]
  },
  {
   "cell_type": "code",
   "execution_count": 119,
   "metadata": {
    "collapsed": true
   },
   "outputs": [],
   "source": [
    "import operator \n",
    "def getNeighbors(X_train, y_train, test_instance, k):\n",
    "    distances = euclidean_distances(X_train.values, test_instance.values.reshape(1,-1))\n",
    "    distance_response_tuple = list(zip(distances.flatten(), y_train.values.flatten()))\n",
    "    distance_response_tuple.sort()\n",
    "    return distance_response_tuple[:k]"
   ]
  },
  {
   "cell_type": "code",
   "execution_count": 191,
   "metadata": {
    "collapsed": false,
    "scrolled": false
   },
   "outputs": [],
   "source": [
    "k_nearest_responses = getNeighbors(X_train, y_train, X_test.iloc[0], 30)"
   ]
  },
  {
   "cell_type": "markdown",
   "metadata": {},
   "source": [
    "##### Step 4: Find response"
   ]
  },
  {
   "cell_type": "markdown",
   "metadata": {},
   "source": [
    "    1 way is to take all responses equally and then average it out\n",
    "    Other way is to take weighted response. Closest one has highest weight."
   ]
  },
  {
   "cell_type": "code",
   "execution_count": 183,
   "metadata": {
    "collapsed": true
   },
   "outputs": [],
   "source": [
    "# way 1. equal response\n",
    "from collections import Counter\n",
    "def get_response(k_nearest_responses):\n",
    "    response = [i[1] for i in k_nearest_responses]\n",
    "    most_common = Counter(response).most_common()[0][0] # 4, 6 times\n",
    "    return most_common"
   ]
  },
  {
   "cell_type": "code",
   "execution_count": 184,
   "metadata": {
    "collapsed": false
   },
   "outputs": [],
   "source": [
    "reponse = get_response(k_nearest_responses)"
   ]
  },
  {
   "cell_type": "code",
   "execution_count": 195,
   "metadata": {
    "collapsed": false
   },
   "outputs": [],
   "source": [
    "# way 2. weighted response\n",
    "def get_response_weighted(k_nearest_responses):\n",
    "    from collections import defaultdict\n",
    "    reponse = defaultdict(int)\n",
    "    for d, r in k_nearest_responses:\n",
    "        reponse[r] += d\n",
    "    return max(reponse,key=reponse.get)"
   ]
  },
  {
   "cell_type": "code",
   "execution_count": 196,
   "metadata": {
    "collapsed": true
   },
   "outputs": [],
   "source": [
    "# tie it all together\n",
    "def knn(X_train, X_test, k):\n",
    "    y_pred = []\n",
    "    for i in range(X_test.shape[0]):\n",
    "        k_nearest_responses = getNeighbors(X_train, y_train, X_test.iloc[i], k)\n",
    "        y_pred.append(get_response_weighted(k_nearest_responses)) # get_response or get_response_weighted\n",
    "    return y_pred"
   ]
  },
  {
   "cell_type": "code",
   "execution_count": 197,
   "metadata": {
    "collapsed": true
   },
   "outputs": [],
   "source": [
    "y_pred = knn(X_train, X_test,3)"
   ]
  },
  {
   "cell_type": "markdown",
   "metadata": {},
   "source": [
    "##### Step 5: Accuracy"
   ]
  },
  {
   "cell_type": "code",
   "execution_count": 198,
   "metadata": {
    "collapsed": false
   },
   "outputs": [],
   "source": [
    "def accuracy(y_pred, y_test):\n",
    "    correct = y_pred == y_test.values.flatten()\n",
    "    accuracy = correct.sum()*100.0 / correct.size\n",
    "    return accuracy"
   ]
  },
  {
   "cell_type": "code",
   "execution_count": 199,
   "metadata": {
    "collapsed": false
   },
   "outputs": [
    {
     "data": {
      "text/plain": [
       "98.0"
      ]
     },
     "execution_count": 199,
     "metadata": {},
     "output_type": "execute_result"
    }
   ],
   "source": [
    "accuracy(y_pred, y_test)"
   ]
  },
  {
   "cell_type": "code",
   "execution_count": null,
   "metadata": {
    "collapsed": true
   },
   "outputs": [],
   "source": []
  }
 ],
 "metadata": {
  "kernelspec": {
   "display_name": "Python 2",
   "language": "python",
   "name": "python2"
  },
  "language_info": {
   "codemirror_mode": {
    "name": "ipython",
    "version": 2
   },
   "file_extension": ".py",
   "mimetype": "text/x-python",
   "name": "python",
   "nbconvert_exporter": "python",
   "pygments_lexer": "ipython2",
   "version": "2.7.13"
  }
 },
 "nbformat": 4,
 "nbformat_minor": 2
}
